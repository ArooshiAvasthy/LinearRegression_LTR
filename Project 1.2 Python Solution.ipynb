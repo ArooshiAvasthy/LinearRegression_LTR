{
 "cells": [
  {
   "cell_type": "code",
   "execution_count": 1,
   "metadata": {},
   "outputs": [],
   "source": [
    "from sklearn.cluster import KMeans\n",
    "import numpy as np\n",
    "import csv\n",
    "import math\n",
    "import matplotlib.pyplot as plt \n",
    "import array\n",
    "from matplotlib import pyplot as plt"
   ]
  },
  {
   "cell_type": "code",
   "execution_count": 2,
   "metadata": {},
   "outputs": [],
   "source": [
    "maxAcc = 0.0\n",
    "maxIter = 0\n",
    "C_Lambda = 0.03\n",
    "TrainingPercent = 80\n",
    "ValidationPercent = 10\n",
    "TestPercent = 10\n",
    "M = 10 ## number of clusters\n",
    "PHI = [] ## to store design matrix\n",
    "IsSynthetic = False\n",
    "Width = 0"
   ]
  },
  {
   "cell_type": "code",
   "execution_count": 3,
   "metadata": {},
   "outputs": [],
   "source": [
    "#Storing the expected target values from the file into array t\n",
    "def GetTargetVector(filePath):\n",
    "    t = []\n",
    "    with open(filePath, 'rU') as f:\n",
    "        reader = csv.reader(f)\n",
    "        for row in reader:  \n",
    "            t.append(int(row[0]))\n",
    "    #print(\"Raw Training Generated..\")\n",
    "    return t\n",
    "\n",
    "def GenerateRawData(filePath, IsSynthetic): #Fetching the data from the file and storing it into dataMatrix   \n",
    "    dataMatrix = [] \n",
    "    with open(filePath, 'rU') as fi:\n",
    "        reader = csv.reader(fi)\n",
    "        for row in reader:\n",
    "            dataRow = []\n",
    "            for column in row:\n",
    "                dataRow.append(float(column))\n",
    "            dataMatrix.append(dataRow)   \n",
    "    \n",
    "    if IsSynthetic == False :\n",
    "        dataMatrix = np.delete(dataMatrix, [5,6,7,8,9], axis=1) ## these columns have zero values, their covariance would be zero\n",
    "    dataMatrix = np.transpose(dataMatrix)     \n",
    "    #print (\"Data Matrix Generated..\")\n",
    "    return dataMatrix\n",
    "\n",
    "def GenerateTrainingTarget(rawTraining,TrainingPercent = 80): ##selecting only 80% of total data for training and fetching its target vector values\n",
    "    TrainingLen = int(math.ceil(len(rawTraining)*(TrainingPercent*0.01)))\n",
    "    t           = rawTraining[:TrainingLen]\n",
    "    #print(str(TrainingPercent) + \"% Training Target Generated..\")\n",
    "    return t\n",
    "\n",
    "def GenerateTrainingDataMatrix(rawData, TrainingPercent = 80):##selecting only 80% of total data for training \n",
    "    T_len = int(math.ceil(len(rawData[0])*0.01*TrainingPercent))\n",
    "    d2 = rawData[:,0:T_len]\n",
    "    #print(str(TrainingPercent) + \"% Training Data Generated..\")\n",
    "    return d2\n",
    "\n",
    "def GenerateValData(rawData, ValPercent, TrainingCount): ##selecting another 10% of total data for validation and the for testing\n",
    "    valSize = int(math.ceil(len(rawData[0])*ValPercent*0.01))\n",
    "    V_End = TrainingCount + valSize\n",
    "    dataMatrix = rawData[:,TrainingCount+1:V_End]\n",
    "    #print (str(ValPercent) + \"% Val Data Generated..\")  \n",
    "    return dataMatrix\n",
    "\n",
    "def GenerateValTargetVector(rawData, ValPercent, TrainingCount): \n",
    "    valSize = int(math.ceil(len(rawData)*ValPercent*0.01))\n",
    "    V_End = TrainingCount + valSize\n",
    "    t =rawData[TrainingCount+1:V_End]\n",
    "    #print (str(ValPercent) + \"% Val Target Data Generated..\")\n",
    "    return t\n",
    "\n",
    "def GenerateBigSigma(Data, MuMatrix,TrainingPercent,IsSynthetic,Width): ## it is used to create the co-variance matrix\n",
    "    BigSigma    = np.zeros((len(Data),len(Data)))\n",
    "    DataT       = np.transpose(Data)\n",
    "    TrainingLen = math.ceil(len(DataT)*(TrainingPercent*0.01))        \n",
    "    varVect     = []\n",
    "    for i in range(0,len(DataT[0])):\n",
    "        vct = []\n",
    "        for j in range(0,int(TrainingLen)):\n",
    "            vct.append(Data[i][j])    \n",
    "        varVect.append(np.var(vct))\n",
    "    \n",
    "    for j in range(len(Data)):\n",
    "        BigSigma[j][j] = varVect[j] ##we only need the values of the diagonal elements of a covariance matrix\n",
    "    if IsSynthetic == True:\n",
    "        BigSigma = np.dot(3,BigSigma)\n",
    "    else:\n",
    "        BigSigma = np.dot(Width*.01*(10**Width),BigSigma)## Width is used for tuning the model, it increases the variance\n",
    "       \n",
    "    return BigSigma\n",
    "\n",
    "def GetScalar(DataRow,MuRow, BigSigInv):  \n",
    "    R = np.subtract(DataRow,MuRow)\n",
    "    T = np.dot(BigSigInv,np.transpose(R))  \n",
    "    L = np.dot(R,T)\n",
    "    return L\n",
    "\n",
    "def GetRadialBasisOut(DataRow,MuRow, BigSigInv):  ##fomula for calculating basis function  \n",
    "    phi_x = math.exp(-0.5*GetScalar(DataRow,MuRow,BigSigInv))\n",
    "    return phi_x\n",
    "\n",
    "def GetPhiMatrix(Data, MuMatrix, BigSigma, TrainingPercent = 80): ## it is used for craeting the design matrix\n",
    "    DataT = np.transpose(Data)\n",
    "    TrainingLen = math.ceil(len(DataT)*(TrainingPercent*0.01))         \n",
    "    PHI = np.zeros((int(TrainingLen),len(MuMatrix))) \n",
    "    BigSigInv = np.linalg.inv(BigSigma)\n",
    "    for  C in range(0,len(MuMatrix)):\n",
    "        for R in range(0,int(TrainingLen)):\n",
    "            PHI[R][C] = GetRadialBasisOut(DataT[R], MuMatrix[C], BigSigInv)\n",
    "    #print (\"PHI Generated..\")\n",
    "    return PHI\n",
    "\n",
    "def GetWeightsClosedForm(PHI, T, Lambda): ##It calculates weight using phi matrix, target vector and lambda\n",
    "    Lambda_I = np.identity(len(PHI[0]))\n",
    "    for i in range(0,len(PHI[0])):\n",
    "        Lambda_I[i][i] = Lambda\n",
    "    PHI_T       = np.transpose(PHI)\n",
    "    PHI_SQR     = np.dot(PHI_T,PHI)\n",
    "    PHI_SQR_LI  = np.add(Lambda_I,PHI_SQR)\n",
    "    PHI_SQR_INV = np.linalg.inv(PHI_SQR_LI)\n",
    "    INTER       = np.dot(PHI_SQR_INV, PHI_T)\n",
    "    W           = np.dot(INTER, T) ## final formula becomes W= (Lambda + ф*ф_Transpose)_inverse  *  (ф_Transpose * target)\n",
    "    ##print (\"Training Weights Generated..\")\n",
    "    return W\n",
    "\n",
    "def GetPhiMatrix(Data, MuMatrix, BigSigma, TrainingPercent = 80):##creating the design matrix\n",
    "    DataT = np.transpose(Data)\n",
    "    TrainingLen = math.ceil(len(DataT)*(TrainingPercent*0.01))         \n",
    "    PHI = np.zeros((int(TrainingLen),len(MuMatrix))) \n",
    "    BigSigInv = np.linalg.inv(BigSigma)\n",
    "    for  C in range(0,len(MuMatrix)):\n",
    "        for R in range(0,int(TrainingLen)):\n",
    "            PHI[R][C] = GetRadialBasisOut(DataT[R], MuMatrix[C], BigSigInv)\n",
    "    #print (\"PHI Generated..\")\n",
    "    return PHI\n",
    "\n",
    "def GetValTest(VAL_PHI,W):\n",
    "    Y = np.dot(W,np.transpose(VAL_PHI))\n",
    "    ##print (\"Test Out Generated..\")\n",
    "    return Y\n",
    "\n",
    "def GetErms(VAL_TEST_OUT,ValDataAct):# finds the error root mean squae for  the given data, it compares the actual value with the expected value\n",
    "    sum = 0.0\n",
    "    t=0\n",
    "    accuracy = 0.0\n",
    "    counter = 0\n",
    "    val = 0.0\n",
    "    for i in range (0,len(VAL_TEST_OUT)):\n",
    "        sum = sum + math.pow((ValDataAct[i] - VAL_TEST_OUT[i]),2)\n",
    "        if(int(np.around(VAL_TEST_OUT[i], 0)) == ValDataAct[i]):\n",
    "            counter+=1\n",
    "    accuracy = (float((counter*100))/float(len(VAL_TEST_OUT)))\n",
    "    ##print (\"Accuracy Generated..\")\n",
    "    ##print (\"Validation E_RMS : \" + str(math.sqrt(sum/len(VAL_TEST_OUT))))\n",
    "    return (str(accuracy) + ',' +  str(math.sqrt(sum/len(VAL_TEST_OUT))))"
   ]
  },
  {
   "cell_type": "markdown",
   "metadata": {},
   "source": [
    "## Fetch and Prepare Dataset"
   ]
  },
  {
   "cell_type": "code",
   "execution_count": 4,
   "metadata": {},
   "outputs": [
    {
     "name": "stderr",
     "output_type": "stream",
     "text": [
      "C:\\Users\\aroos\\Anaconda3\\envs\\iris_2\\lib\\site-packages\\ipykernel_launcher.py:4: DeprecationWarning: 'U' mode is deprecated\n",
      "  after removing the cwd from sys.path.\n",
      "C:\\Users\\aroos\\Anaconda3\\envs\\iris_2\\lib\\site-packages\\ipykernel_launcher.py:13: DeprecationWarning: 'U' mode is deprecated\n",
      "  del sys.path[0]\n"
     ]
    }
   ],
   "source": [
    "RawTarget = GetTargetVector('Querylevelnorm_t.csv')\n",
    "RawData   = GenerateRawData('Querylevelnorm_X.csv',IsSynthetic)"
   ]
  },
  {
   "cell_type": "markdown",
   "metadata": {},
   "source": [
    "## Prepare Training Data"
   ]
  },
  {
   "cell_type": "code",
   "execution_count": 5,
   "metadata": {},
   "outputs": [
    {
     "name": "stdout",
     "output_type": "stream",
     "text": [
      "(55699,)\n",
      "(41, 55699)\n"
     ]
    }
   ],
   "source": [
    "TrainingTarget = np.array(GenerateTrainingTarget(RawTarget,TrainingPercent))\n",
    "TrainingData   = GenerateTrainingDataMatrix(RawData,TrainingPercent)\n",
    "print(TrainingTarget.shape)\n",
    "print(TrainingData.shape)"
   ]
  },
  {
   "cell_type": "markdown",
   "metadata": {},
   "source": [
    "## Prepare Validation Data"
   ]
  },
  {
   "cell_type": "code",
   "execution_count": 6,
   "metadata": {},
   "outputs": [
    {
     "name": "stdout",
     "output_type": "stream",
     "text": [
      "(6962,)\n",
      "(41, 6962)\n"
     ]
    }
   ],
   "source": [
    "ValDataAct = np.array(GenerateValTargetVector(RawTarget,ValidationPercent, (len(TrainingTarget))))\n",
    "ValData    = GenerateValData(RawData,ValidationPercent, (len(TrainingTarget)))\n",
    "print(ValDataAct.shape)\n",
    "print(ValData.shape)"
   ]
  },
  {
   "cell_type": "markdown",
   "metadata": {},
   "source": [
    "## Prepare Test Data"
   ]
  },
  {
   "cell_type": "code",
   "execution_count": 7,
   "metadata": {},
   "outputs": [
    {
     "name": "stdout",
     "output_type": "stream",
     "text": [
      "(6961,)\n",
      "(41, 6961)\n"
     ]
    }
   ],
   "source": [
    "TestDataAct = np.array(GenerateValTargetVector(RawTarget,TestPercent, (len(TrainingTarget)+len(ValDataAct))))\n",
    "TestData = GenerateValData(RawData,TestPercent, (len(TrainingTarget)+len(ValDataAct)))\n",
    "print(TestDataAct.shape)\n",
    "print(TestData.shape)"
   ]
  },
  {
   "cell_type": "markdown",
   "metadata": {},
   "source": [
    "## Closed Form Solution [Finding Weights using Moore- Penrose pseudo- Inverse Matrix]"
   ]
  },
  {
   "cell_type": "code",
   "execution_count": 8,
   "metadata": {},
   "outputs": [
    {
     "name": "stdout",
     "output_type": "stream",
     "text": [
      "M =1\n",
      "Lambda =0.1\n",
      "E_rms Training   = 0.6427529035300575\n",
      "E_rms Validation = 0.6282628133169708\n",
      "E_rms Testing    = 0.7408882410461395\n",
      "Accuracy Testing   = 70.23416175836805\n",
      "M =1\n",
      "Lambda =2.0\n",
      "E_rms Training   = 0.6291726989697519\n",
      "E_rms Validation = 0.6145247378828577\n",
      "E_rms Testing    = 0.7245673889895873\n",
      "Accuracy Testing   = 69.71699468467175\n",
      "M =1\n",
      "Lambda =30.0\n",
      "E_rms Training   = 0.5739418763580454\n",
      "E_rms Validation = 0.5626546708919288\n",
      "E_rms Testing    = 0.6518339490640811\n",
      "Accuracy Testing   = 70.23416175836805\n",
      "M =1\n",
      "Lambda =400.0\n",
      "E_rms Training   = 0.5647041154115904\n",
      "E_rms Validation = 0.5539445044177406\n",
      "E_rms Testing    = 0.6400319301310835\n",
      "Accuracy Testing   = 70.23416175836805\n",
      "M =1\n",
      "Lambda =5000.0\n",
      "E_rms Training   = 0.5649843730740433\n",
      "E_rms Validation = 0.553827046136877\n",
      "E_rms Testing    = 0.6429119421989584\n",
      "Accuracy Testing   = 70.23416175836805\n"
     ]
    },
    {
     "data": {
      "image/png": "[encoded data removed]",
      "text/plain": [
       "<matplotlib.figure.Figure at 0x1c7e2fe9518>"
      ]
     },
     "metadata": {},
     "output_type": "display_data"
    },
    {
     "name": "stdout",
     "output_type": "stream",
     "text": [
      "M =11\n",
      "Lambda =0.1\n",
      "E_rms Training   = 0.6427528984352141\n",
      "E_rms Validation = 0.6282628125486431\n",
      "E_rms Testing    = 0.7408882386822628\n",
      "Accuracy Testing   = 70.23416175836805\n",
      "M =11\n",
      "Lambda =2.0\n",
      "E_rms Training   = 0.6149166326086989\n",
      "E_rms Validation = 0.6015941509841954\n",
      "E_rms Testing    = 0.7095542618621802\n",
      "Accuracy Testing   = 68.84068380979744\n",
      "M =11\n",
      "Lambda =30.0\n",
      "E_rms Training   = 0.5521891466386234\n",
      "E_rms Validation = 0.5424701890860169\n",
      "E_rms Testing    = 0.628611221054567\n",
      "Accuracy Testing   = 70.11923574199109\n",
      "M =11\n",
      "Lambda =400.0\n",
      "E_rms Training   = 0.5599630818461021\n",
      "E_rms Validation = 0.5488095825078251\n",
      "E_rms Testing    = 0.6357550888641107\n",
      "Accuracy Testing   = 70.23416175836805\n",
      "M =11\n",
      "Lambda =5000.0\n",
      "E_rms Training   = 0.564400540511381\n",
      "E_rms Validation = 0.5536664657038907\n",
      "E_rms Testing    = 0.6397451836761452\n",
      "Accuracy Testing   = 70.23416175836805\n"
     ]
    },
    {
     "data": {
      "image/png": "[encoded data removed]",
      "text/plain": [
       "<matplotlib.figure.Figure at 0x1c7e3d12f98>"
      ]
     },
     "metadata": {},
     "output_type": "display_data"
    },
    {
     "name": "stdout",
     "output_type": "stream",
     "text": [
      "M =21\n",
      "Lambda =0.1\n",
      "E_rms Training   = 0.642752856308148\n",
      "E_rms Validation = 0.6282627430125443\n",
      "E_rms Testing    = 0.7408882023425261\n",
      "Accuracy Testing   = 70.23416175836805\n",
      "M =21\n",
      "Lambda =2.0\n",
      "E_rms Training   = 0.6066306247051635\n",
      "E_rms Validation = 0.595192864176806\n",
      "E_rms Testing    = 0.6972247151220713\n",
      "Accuracy Testing   = 68.82631805775033\n",
      "M =21\n",
      "Lambda =30.0\n",
      "E_rms Training   = 0.5494465037368979\n",
      "E_rms Validation = 0.5404984784263781\n",
      "E_rms Testing    = 0.6273179156700758\n",
      "Accuracy Testing   = 69.6164344203419\n",
      "M =21\n",
      "Lambda =400.0\n",
      "E_rms Training   = 0.55725110939963\n",
      "E_rms Validation = 0.5459526128392471\n",
      "E_rms Testing    = 0.6336409609502813\n",
      "Accuracy Testing   = 70.23416175836805\n",
      "M =21\n",
      "Lambda =5000.0\n",
      "E_rms Training   = 0.5643879979352604\n",
      "E_rms Validation = 0.5536753551556489\n",
      "E_rms Testing    = 0.6395961142963466\n",
      "Accuracy Testing   = 70.23416175836805\n"
     ]
    },
    {
     "data": {
      "image/png": "[encoded data removed]",
      "text/plain": [
       "<matplotlib.figure.Figure at 0x1c7e3c72f98>"
      ]
     },
     "metadata": {},
     "output_type": "display_data"
    },
    {
     "name": "stdout",
     "output_type": "stream",
     "text": [
      "M =31\n",
      "Lambda =0.1\n",
      "E_rms Training   = 0.6427526456427277\n",
      "E_rms Validation = 0.628262648148756\n",
      "E_rms Testing    = 0.7408877073328477\n",
      "Accuracy Testing   = 70.23416175836805\n",
      "M =31\n",
      "Lambda =2.0\n",
      "E_rms Training   = 0.6045979058074382\n",
      "E_rms Validation = 0.5930665114795357\n",
      "E_rms Testing    = 0.6961726952065399\n",
      "Accuracy Testing   = 68.76885504956185\n",
      "M =31\n",
      "Lambda =30.0\n",
      "E_rms Training   = 0.5468893499553777\n",
      "E_rms Validation = 0.539374114865649\n",
      "E_rms Testing    = 0.6259465577763952\n",
      "Accuracy Testing   = 69.58770291624766\n",
      "M =31\n",
      "Lambda =400.0\n",
      "E_rms Training   = 0.5555316953032732\n",
      "E_rms Validation = 0.5443296773299638\n",
      "E_rms Testing    = 0.632132218388237\n",
      "Accuracy Testing   = 70.23416175836805\n",
      "M =31\n",
      "Lambda =5000.0\n",
      "E_rms Training   = 0.5643850807473036\n",
      "E_rms Validation = 0.553682855936783\n",
      "E_rms Testing    = 0.6395449437346774\n",
      "Accuracy Testing   = 70.23416175836805\n"
     ]
    },
    {
     "data": {
      "image/png": "[encoded data removed]",
      "text/plain": [
       "<matplotlib.figure.Figure at 0x1c7e499de80>"
      ]
     },
     "metadata": {},
     "output_type": "display_data"
    },
    {
     "data": {
      "image/png": "[encoded data removed]",
      "text/plain": [
       "<matplotlib.figure.Figure at 0x1c7e300b908>"
      ]
     },
     "metadata": {},
     "output_type": "display_data"
    }
   ],
   "source": [
    "lamda = []\n",
    "clusters = []\n",
    "ErmsArr = []\n",
    "AccuracyArr = []\n",
    "clusters_erms=[]\n",
    "for m in range(1,40,10):#changing number of clusters\n",
    " for lam in range(1,6,1):  #changing lambda values   \n",
    "        kmeans = KMeans(n_clusters=m, random_state=0).fit(np.transpose(TrainingData))##using kmeans to form clusters\n",
    "        ##print statements\n",
    "        \n",
    "        lamda.append(lam)\n",
    "        \n",
    "        Mu = kmeans.cluster_centers_\n",
    "\n",
    "        BigSigma     = GenerateBigSigma(RawData, Mu, TrainingPercent,IsSynthetic,lam)\n",
    "        TRAINING_PHI = GetPhiMatrix(RawData, Mu, BigSigma, TrainingPercent)\n",
    "        W            = GetWeightsClosedForm(TRAINING_PHI,TrainingTarget,(lam*.01*(10**lam)))\n",
    "        ##W            = GetWeightsClosedForm(TRAINING_PHI,TrainingTarget,(200)) \n",
    "        TEST_PHI     = GetPhiMatrix(TestData, Mu, BigSigma, 100) \n",
    "        VAL_PHI      = GetPhiMatrix(ValData, Mu, BigSigma, 100)\n",
    "\n",
    "        TR_TEST_OUT  = GetValTest(TRAINING_PHI,W)\n",
    "        VAL_TEST_OUT = GetValTest(VAL_PHI,W)\n",
    "        TEST_OUT     = GetValTest(TEST_PHI,W)\n",
    "\n",
    "        TrainingAccuracy   = str(GetErms(TR_TEST_OUT,TrainingTarget))\n",
    "        ValidationAccuracy = str(GetErms(VAL_TEST_OUT,ValDataAct))\n",
    "        TestAccuracy       = str(GetErms(TEST_OUT,TestDataAct))\n",
    "\n",
    "        print (\"M =\"+str(int(m)))\n",
    "        print (\"Lambda =\"+ str(float(lam*.01*(10**lam))))\n",
    "        print (\"E_rms Training   = \" + str(float(TrainingAccuracy.split(',')[1])))\n",
    "        print (\"E_rms Validation = \" + str(float(ValidationAccuracy.split(',')[1])))\n",
    "        print (\"E_rms Testing    = \" + str(float(TestAccuracy.split(',')[1])))\n",
    "        print (\"Accuracy Testing   = \" + str(float(TestAccuracy.split(',')[0])))  \n",
    "\n",
    "        ErmsArr.append(float(TestAccuracy.split(',')[1]))#finding ERMS for changing lambda values\n",
    "        AccuracyArr.append(float(TestAccuracy.split(',')[0]))\n",
    " # E= np.array(ErmsArr)\n",
    " plt.plot(lamda, ErmsArr)\n",
    " # x axis values \n",
    " plt.xlabel('Lambda') \n",
    " # naming the y axis \n",
    " plt.ylabel('ErmsArr') \n",
    " plt.title('Lambda Vs ERMS') \n",
    " plt.show()\n",
    "    \n",
    " average_of_cluster=sum(ErmsArr) / float(len(ErmsArr))\n",
    " clusters_erms.append(average_of_cluster)\n",
    " clusters.append(m) \n",
    " lamda.clear()\n",
    " ErmsArr.clear()\n",
    "\n",
    "plt.plot(clusters, clusters_erms)\n",
    "# x axis values \n",
    "plt.xlabel('Clusters') \n",
    "# naming the y axis \n",
    "plt.ylabel('ErmsArr') \n",
    "plt.title('Number of Clusters Vs ERMS') \n",
    "plt.show()"
   ]
  },
  {
   "cell_type": "markdown",
   "metadata": {},
   "source": [
    "print(Mu.shape)\n",
    "print(BigSigma.shape)\n",
    "print(TRAINING_PHI.shape)\n",
    "print(W.shape)\n",
    "print(VAL_PHI.shape)\n",
    "print(TEST_PHI.shape)"
   ]
  },
  {
   "cell_type": "markdown",
   "metadata": {},
   "source": [
    "## Finding Erms on training, validation and test set "
   ]
  },
  {
   "cell_type": "code",
   "execution_count": 9,
   "metadata": {},
   "outputs": [
    {
     "name": "stdout",
     "output_type": "stream",
     "text": [
      "UBITname      = arooshia\n",
      "Person Number = 50291284\n",
      "----------------------------------------------------\n",
      "------------------LeToR Data------------------------\n",
      "----------------------------------------------------\n",
      "-------Closed Form with Radial Basis Function-------\n",
      "----------------------------------------------------\n"
     ]
    }
   ],
   "source": [
    "print ('UBITname      = arooshia')\n",
    "print ('Person Number = 50291284')\n",
    "print ('----------------------------------------------------')\n",
    "print (\"------------------LeToR Data------------------------\")\n",
    "print ('----------------------------------------------------')\n",
    "print (\"-------Closed Form with Radial Basis Function-------\")\n",
    "print ('----------------------------------------------------')"
   ]
  },
  {
   "cell_type": "markdown",
   "metadata": {},
   "source": [
    "## Gradient Descent solution for Linear Regression"
   ]
  },
  {
   "cell_type": "code",
   "execution_count": 10,
   "metadata": {},
   "outputs": [
    {
     "name": "stdout",
     "output_type": "stream",
     "text": [
      "----------------------------------------------------\n",
      "--------------Please Wait for 2 mins!----------------\n",
      "----------------------------------------------------\n"
     ]
    }
   ],
   "source": [
    "print ('----------------------------------------------------')\n",
    "print ('--------------Please Wait for 2 mins!----------------')\n",
    "print ('----------------------------------------------------')"
   ]
  },
  {
   "cell_type": "code",
   "execution_count": 11,
   "metadata": {},
   "outputs": [
    {
     "name": "stdout",
     "output_type": "stream",
     "text": [
      "----------Gradient Descent Solution--------------------\n",
      "M =100\n",
      "Lambda  =1\n",
      "Learning Rate =0.1\n",
      "E_rms Training   = 0.56255\n",
      "E_rms Validation = 0.55183\n",
      "E_rms Testing    = 0.63338\n",
      "----------Gradient Descent Solution--------------------\n",
      "M =200\n",
      "Lambda  =2\n",
      "Learning Rate =0.020000000000000004\n",
      "E_rms Training   = 0.56255\n",
      "E_rms Validation = 0.55183\n",
      "E_rms Testing    = 0.63338\n",
      "----------Gradient Descent Solution--------------------\n",
      "M =300\n",
      "Lambda  =3\n",
      "Learning Rate =0.003000000000000001\n",
      "E_rms Training   = 0.56255\n",
      "E_rms Validation = 0.55183\n",
      "E_rms Testing    = 0.63338\n",
      "----------Gradient Descent Solution--------------------\n",
      "M =400\n",
      "Lambda  =4\n",
      "Learning Rate =0.0004000000000000001\n",
      "E_rms Training   = 0.56255\n",
      "E_rms Validation = 0.55183\n",
      "E_rms Testing    = 0.63338\n",
      "----------Gradient Descent Solution--------------------\n",
      "M =500\n",
      "Lambda  =5\n",
      "Learning Rate =5.000000000000001e-05\n",
      "E_rms Training   = 0.56255\n",
      "E_rms Validation = 0.55183\n",
      "E_rms Testing    = 0.63338\n"
     ]
    }
   ],
   "source": [
    "W_Now        = np.dot(220, W)\n",
    "La           = 2 # lambda= regularizer, try different lambda\n",
    "learningRate = 0.01 # change learning rate\n",
    "L_Erms_Val   = []\n",
    "L_Erms_TR    = []\n",
    "L_Erms_Test  = []\n",
    "W_Mat        = []\n",
    "Clusters     = []\n",
    "Dataset      = []\n",
    "Erms_array   = []\n",
    "learningRate_array = []\n",
    "Lambda_array = []\n",
    "\n",
    "for n in range(1,6):\n",
    " for i in range(0,n*100):# selecting datapoints 100,200,300,400,500\n",
    "        #for variable in range(1,10,1):  \n",
    "        #print ('---------Iteration: ' + str(i) + '--------------')\n",
    "        # learninfRAte =1/ior 10/sqrt or 6/i this way to get different learning rates\n",
    "  Delta_E_D     = -np.dot((TrainingTarget[i] - np.dot(np.transpose(W_Now),TRAINING_PHI[i])),TRAINING_PHI[i])\n",
    "  La = n\n",
    "  La_Delta_E_W  = np.dot(La,W_Now)\n",
    "  Delta_E       = np.add(Delta_E_D,La_Delta_E_W)   \n",
    "  learningRate  = .01##n*(.1**n)\n",
    "  Delta_W       = -np.dot(learningRate,Delta_E)\n",
    "  W_T_Next      = W_Now + Delta_W\n",
    "  W_Now         = W_T_Next\n",
    "\n",
    "    #-----------------TrainingData Accuracy---------------------#\n",
    "  TR_TEST_OUT   = GetValTest(TRAINING_PHI,W_T_Next) \n",
    "  Erms_TR       = GetErms(TR_TEST_OUT,TrainingTarget)\n",
    "  L_Erms_TR.append(float(Erms_TR.split(',')[1]))\n",
    "\n",
    "    #-----------------ValidationData Accuracy---------------------#\n",
    "  VAL_TEST_OUT  = GetValTest(VAL_PHI,W_T_Next) \n",
    "  Erms_Val      = GetErms(VAL_TEST_OUT,ValDataAct)\n",
    "  L_Erms_Val.append(float(Erms_Val.split(',')[1]))\n",
    "\n",
    "    #-----------------TestingData Accuracy---------------------#\n",
    "  TEST_OUT      = GetValTest(TEST_PHI,W_T_Next) \n",
    "  Erms_Test = GetErms(TEST_OUT,TestDataAct)\n",
    "  L_Erms_Test.append(float(Erms_Test.split(',')[1]))\n",
    "\n",
    " print ('----------Gradient Descent Solution--------------------')\n",
    " print (\"M =\" + str(n*100) + \"\\nLambda  =\"+ str(n) +\"\\nLearning Rate =\"+ str(n*(.1**n)))\n",
    " print (\"E_rms Training   = \" + str(np.around(min(L_Erms_TR),5)))\n",
    " print (\"E_rms Validation = \" + str(np.around(min(L_Erms_Val),5)))\n",
    " print (\"E_rms Testing    = \" + str(np.around(min(L_Erms_Test),5)))\n",
    "\n",
    " Erms_array.append(np.around(min(L_Erms_Test),5))  \n",
    " Dataset.append(n*100)\n",
    " learningRate_array.append(learningRate)\n",
    " Lambda_array.append(La)\n"
   ]
  },
  {
   "cell_type": "code",
   "execution_count": 12,
   "metadata": {},
   "outputs": [
    {
     "name": "stdout",
     "output_type": "stream",
     "text": [
      "5\n",
      "5\n",
      "5\n",
      "5\n"
     ]
    },
    {
     "data": {
      "image/png": "[encoded data removed]",
      "text/plain": [
       "<matplotlib.figure.Figure at 0x1c7e300b6d8>"
      ]
     },
     "metadata": {},
     "output_type": "display_data"
    },
    {
     "data": {
      "image/png": "[encoded data removed]",
      "text/plain": [
       "<matplotlib.figure.Figure at 0x1c7e4b0a5c0>"
      ]
     },
     "metadata": {},
     "output_type": "display_data"
    },
    {
     "data": {
      "image/png": "[encoded data removed]",
      "text/plain": [
       "<matplotlib.figure.Figure at 0x1c7e4b78d30>"
      ]
     },
     "metadata": {},
     "output_type": "display_data"
    }
   ],
   "source": [
    "print (len(Erms_array))\n",
    "print (len(learningRate_array))\n",
    "print (len(Lambda_array))\n",
    "print (len(Dataset))\n",
    "\n",
    "plt.plot(Dataset, Erms_array)\n",
    "# x axis values \n",
    "plt.xlabel('Data points') \n",
    "# naming the y axis \n",
    "plt.ylabel('ErmsArr') \n",
    "\n",
    "plt.title('Data Points Vs ERMS') \n",
    "plt.show()\n",
    "##2nd\n",
    "plt.plot(learningRate_array, Erms_array)\n",
    "# x axis values \n",
    "plt.xlabel('learningRate') \n",
    "# naming the y axis \n",
    "plt.ylabel('ErmsArr') \n",
    "\n",
    "plt.title('Learning Rate Vs ERMS') \n",
    "plt.show()\n",
    "##3rd\n",
    "plt.plot(Lambda_array, Erms_array)\n",
    "# x axis values \n",
    "plt.xlabel('Lambda') \n",
    "# naming the y axis \n",
    "plt.ylabel('ErmsArr') \n",
    "\n",
    "plt.title('Lambda Vs ERMS') \n",
    "plt.show()\n"
   ]
  },
  {
   "cell_type": "code",
   "execution_count": null,
   "metadata": {},
   "outputs": [],
   "source": []
  }
 ],
 "metadata": {
  "kernelspec": {
   "display_name": "Python 3",
   "language": "python",
   "name": "python3"
  },
  "language_info": {
   "codemirror_mode": {
    "name": "ipython",
    "version": 3
   },
   "file_extension": ".py",
   "mimetype": "text/x-python",
   "name": "python",
   "nbconvert_exporter": "python",
   "pygments_lexer": "ipython3",
   "version": "3.5.5"
  }
 },
 "nbformat": 4,
 "nbformat_minor": 2
}
